{
 "cells": [
  {
   "cell_type": "markdown",
   "id": "1e18990b-17bb-486d-bd37-11fed491d8dd",
   "metadata": {},
   "source": [
    "# Data loading + Cleaning + Labeling\n"
   ]
  },
  {
   "cell_type": "code",
   "execution_count": 8,
   "id": "76a695b8-8317-4d4d-a48d-bf4ade889bbb",
   "metadata": {},
   "outputs": [
    {
     "data": {
      "text/plain": [
       "['features.pkl']"
      ]
     },
     "execution_count": 8,
     "metadata": {},
     "output_type": "execute_result"
    }
   ],
   "source": [
    "import pandas as pd\n",
    "from sklearn.model_selection import train_test_split\n",
    "from sklearn.ensemble import RandomForestClassifier\n",
    "from sklearn.preprocessing import LabelEncoder\n",
    "import joblib\n",
    "import os\n",
    "\n",
    "# Load CSV\n",
    "df = pd.read_csv('survey.csv')\n",
    "\n",
    "# Clean column names\n",
    "df.columns = df.columns.str.strip().str.lower()\n",
    "\n",
    "# Select features and target\n",
    "features = [\n",
    "    'age', 'gender', 'family_history', 'benefits',\n",
    "    'care_options', 'anonymity', 'leave', 'work_interfere'\n",
    "]\n",
    "\n",
    "df = df[features + ['treatment']]\n",
    "\n",
    "# Clean gender\n",
    "df['gender'] = df['gender'].str.lower()\n",
    "df['gender'] = df['gender'].replace(['male', 'm', 'man'], 'male')\n",
    "df['gender'] = df['gender'].replace(['female', 'f', 'woman'], 'female')\n",
    "df['gender'] = df['gender'].where(df['gender'].isin(['male', 'female']), 'other')\n",
    "\n",
    "# Drop missing values\n",
    "df.dropna(inplace=True)\n",
    "\n",
    "# Encode all object columns\n",
    "label_encoders = {}\n",
    "for col in df.columns:\n",
    "    if df[col].dtype == 'object':\n",
    "        le = LabelEncoder()\n",
    "        df[col] = le.fit_transform(df[col])\n",
    "        label_encoders[col] = le\n",
    "\n",
    "# Save encoders\n",
    "os.makedirs('encoders', exist_ok=True)\n",
    "for col, le in label_encoders.items():\n",
    "    joblib.dump(le, f'encoders/{col}_encoder.pkl')\n",
    "\n",
    "# Split data\n",
    "X = df[features]\n",
    "y = df['treatment']\n",
    "X_train, X_test, y_train, y_test = train_test_split(X, y, test_size=0.2, random_state=42)\n",
    "\n",
    "# Train model\n",
    "model = RandomForestClassifier()\n",
    "model.fit(X_train, y_train)\n",
    "\n",
    "# Save model and features\n",
    "joblib.dump(model, 'model.pkl')\n",
    "joblib.dump(features, 'features.pkl')"
   ]
  }
 ],
 "metadata": {
  "kernelspec": {
   "display_name": "Python 3 (ipykernel)",
   "language": "python",
   "name": "python3"
  },
  "language_info": {
   "codemirror_mode": {
    "name": "ipython",
    "version": 3
   },
   "file_extension": ".py",
   "mimetype": "text/x-python",
   "name": "python",
   "nbconvert_exporter": "python",
   "pygments_lexer": "ipython3",
   "version": "3.12.7"
  }
 },
 "nbformat": 4,
 "nbformat_minor": 5
}
