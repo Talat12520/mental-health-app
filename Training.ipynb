{
 "cells": [
  {
   "cell_type": "markdown",
   "id": "1e18990b-17bb-486d-bd37-11fed491d8dd",
   "metadata": {},
   "source": [
    "# Data loading + Cleaning + Labeling\n"
   ]
  },
  {
   "cell_type": "code",
   "execution_count": 1,
   "id": "3744682b-62ea-40af-b7cb-1ae68323c680",
   "metadata": {},
   "outputs": [],
   "source": [
    "import pandas as pd\n",
    "\n",
    "# Load dataset\n",
    "df = pd.read_csv(\"survey.csv\")\n",
    "\n",
    "# Keep only needed columns\n",
    "df = df[[\"Age\", \"Gender\", \"self_employed\", \"family_history\", \"work_interfere\",\n",
    "         \"no_employees\", \"remote_work\", \"tech_company\", \"benefits\",\n",
    "         \"care_options\", \"wellness_program\", \"seek_help\", \"anonymity\", \"leave\",\n",
    "         \"mental_health_consequence\", \"phys_health_consequence\",\n",
    "         \"coworkers\", \"supervisor\", \"mental_health_interview\",\n",
    "         \"phys_health_interview\", \"mental_vs_physical\", \"obs_consequence\", \n",
    "         \"treatment\"]]\n",
    "\n",
    "# Drop missing\n",
    "df = df.dropna()\n",
    "\n",
    "# Binary encode target\n",
    "df[\"treatment\"] = df[\"treatment\"].map({\"Yes\": 1, \"No\": 0})"
   ]
  },
  {
   "cell_type": "code",
   "execution_count": 2,
   "id": "5e432986-0033-4278-bd16-de7a7381772e",
   "metadata": {},
   "outputs": [],
   "source": [
    "from sklearn.preprocessing import LabelEncoder\n",
    "\n",
    "# Encode all categorical columns\n",
    "le = LabelEncoder()\n",
    "for col in df.columns:\n",
    "    if df[col].dtype == 'object':\n",
    "        df[col] = le.fit_transform(df[col])"
   ]
  },
  {
   "cell_type": "code",
   "execution_count": 3,
   "id": "ff8b356e-9468-4bec-a529-399a2b7724c6",
   "metadata": {},
   "outputs": [
    {
     "name": "stdout",
     "output_type": "stream",
     "text": [
      "Accuracy: 0.8163265306122449\n"
     ]
    }
   ],
   "source": [
    "from sklearn.model_selection import train_test_split\n",
    "from sklearn.ensemble import RandomForestClassifier\n",
    "from sklearn.metrics import accuracy_score\n",
    "import joblib\n",
    "\n",
    "# Split data\n",
    "X = df.drop(\"treatment\", axis=1)\n",
    "y = df[\"treatment\"]\n",
    "X_train, X_test, y_train, y_test = train_test_split(X, y, test_size=0.2, random_state=42)\n",
    "\n",
    "# Train model\n",
    "model = RandomForestClassifier()\n",
    "model.fit(X_train, y_train)\n",
    "\n",
    "# Accuracy\n",
    "y_pred = model.predict(X_test)\n",
    "print(\"Accuracy:\", accuracy_score(y_test, y_pred))"
   ]
  },
  {
   "cell_type": "code",
   "execution_count": 4,
   "id": "8e77efa6-7b7b-4828-851b-31aeb845dd10",
   "metadata": {},
   "outputs": [
    {
     "data": {
      "text/plain": [
       "['features.pkl']"
      ]
     },
     "execution_count": 4,
     "metadata": {},
     "output_type": "execute_result"
    }
   ],
   "source": [
    "# Save model\n",
    "joblib.dump(model, \"model.pkl\")\n",
    "\n",
    "# Save feature columns for later use in Streamlit\n",
    "joblib.dump(X.columns.tolist(), \"features.pkl\")"
   ]
  },
  {
   "cell_type": "code",
   "execution_count": null,
   "id": "3fc0698d-abac-47fb-bcba-928e98d97e1e",
   "metadata": {},
   "outputs": [],
   "source": []
  }
 ],
 "metadata": {
  "kernelspec": {
   "display_name": "Python 3 (ipykernel)",
   "language": "python",
   "name": "python3"
  },
  "language_info": {
   "codemirror_mode": {
    "name": "ipython",
    "version": 3
   },
   "file_extension": ".py",
   "mimetype": "text/x-python",
   "name": "python",
   "nbconvert_exporter": "python",
   "pygments_lexer": "ipython3",
   "version": "3.12.7"
  }
 },
 "nbformat": 4,
 "nbformat_minor": 5
}
